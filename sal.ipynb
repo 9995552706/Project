{
  "nbformat": 4,
  "nbformat_minor": 0,
  "metadata": {
    "colab": {
      "provenance": [],
      "authorship_tag": "ABX9TyOXEblDAC1FAp/TdAjJFW7Y"
    },
    "kernelspec": {
      "name": "python3",
      "display_name": "Python 3"
    },
    "language_info": {
      "name": "python"
    }
  },
  "cells": [
    {
      "cell_type": "code",
      "source": [
        "import requests\n",
        "import time\n",
        "from datetime import date\n",
        "from openpyxl import load_workbook\n",
        "from openpyxl.styles import PatternFill\n",
        "from openpyxl.styles.borders import Border, Side\n",
        "from google.colab import files\n",
        "\n",
        "#@title  { display-mode: \"form\" }\n",
        "fromDate = \"2024-03-26\" #@param {type:\"date\"}\n",
        "toDate = \"2024-04-25\" #@param {type:\"date\"}\n",
        "#print(fromDate)\n",
        "\n",
        "uploaded = files.upload()\n",
        "wbName = next(iter(uploaded))\n",
        "wb = load_workbook(filename = wbName)\n",
        "sheetMaster = wb['']\n",
        "row_count_Master = sheetMaster.max_row\n",
        "#print(wbName)\n",
        "\n",
        "URL = 'http://61.0.253.84/staff/api.datafetch.php?f={}&t={}'.format(fromDate,toDate)\n",
        "header = {'User-Agent': 'Mozilla/5.0 (Windows NT 6.1; WOW64) AppleWebKit/537.36 (KHTML, like Gecko) Chrome/56.0.2924.76 Safari/537.36'}\n",
        "\n",
        "result = requests.get(URL, headers=header)\n",
        "response_json = result.json()\n",
        "data = response_json[\"data\"]\n",
        "\n",
        "for person in data:\n",
        "  if(person[\"ID\"]=='396'):\n",
        "    print(person[\"LOP\"])\n",
        "files.download(wbName)"
      ],
      "metadata": {
        "id": "aYBrOonjGIPP"
      },
      "execution_count": null,
      "outputs": []
    },
    {
      "cell_type": "code",
      "execution_count": null,
      "metadata": {
        "id": "dj45SqKEeCg2"
      },
      "outputs": [],
      "source": [
        "import requests\n",
        "import time\n",
        "from datetime import date\n",
        "from openpyxl import load_workbook\n",
        "from openpyxl.styles import PatternFill\n",
        "from openpyxl.styles.borders import Border, Side"
      ]
    },
    {
      "cell_type": "code",
      "source": [
        "thin_border = Border(left=Side(style='thin'),\n",
        "                     right=Side(style='thin'),\n",
        "                     top=Side(style='thin'),\n",
        "                     bottom=Side(style='thin'))"
      ],
      "metadata": {
        "id": "ajGGPPDdGx7y"
      },
      "execution_count": null,
      "outputs": []
    },
    {
      "cell_type": "code",
      "source": [
        "wb = load_workbook(filename = wbName)\n",
        "sheetMaster = wb['']\n",
        "row_count_Master = sheetMaster.max_row\n",
        "column_count_Master = sheetMaster.max_column"
      ],
      "metadata": {
        "id": "9vRrmE9ZG_Wk"
      },
      "execution_count": null,
      "outputs": []
    },
    {
      "cell_type": "code",
      "source": [
        "URL = 'http://61.0.253.84/staff/api.datafetch.php?f={}&t={}'.format(fromDate,toDate)\n",
        "header = {'User-Agent': 'Mozilla/5.0 (Windows NT 6.1; WOW64) AppleWebKit/537.36 (KHTML, like Gecko) Chrome/56.0.2924.76 Safari/537.36'}\n",
        "\n",
        "result = requests.get(URL, headers=header)\n",
        "response_json = result.json()\n",
        "data = response_json[\"data\"]\n",
        "print(data[0])\n",
        "\n",
        "for person in data:\n",
        "  if(person[\"ID\"]=='396'):\n",
        "    print(person[\"LOP\"])\n",
        "\n",
        "date1 = date(2018,12,13)\n",
        "date2 = date(2019,2,25)"
      ],
      "metadata": {
        "id": "9uW9yTpHeH-m"
      },
      "execution_count": null,
      "outputs": []
    },
    {
      "cell_type": "code",
      "source": [
        "import requests\n",
        "URL = 'http://61.0.253.84/ukf/api/admission.php'\n",
        "header = {'User-Agent': 'Mozilla/5.0 (Windows NT 6.1; WOW64) AppleWebKit/537.36 (KHTML, like Gecko) Chrome/56.0.2924.76 Safari/537.36'}\n",
        "\n",
        "result = requests.get(URL, headers=header)\n",
        "response_json = result.json()\n",
        "#data = response_json[\"data\"]\n",
        "\n",
        "print(response_json)"
      ],
      "metadata": {
        "id": "N08ijwOAT8EF"
      },
      "execution_count": null,
      "outputs": []
    }
  ]
}