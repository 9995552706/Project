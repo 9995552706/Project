{
  "nbformat": 4,
  "nbformat_minor": 0,
  "metadata": {
    "colab": {
      "provenance": [],
      "authorship_tag": "ABX9TyN0pukxpdTeQ9PVvQvB5xFG"
    },
    "kernelspec": {
      "name": "python3",
      "display_name": "Python 3"
    },
    "language_info": {
      "name": "python"
    }
  },
  "cells": [
    {
      "cell_type": "code",
      "execution_count": null,
      "metadata": {
        "colab": {
          "base_uri": "https://localhost:8080/"
        },
        "id": "6GrepkzNdCKm",
        "outputId": "fb0a0870-13a9-4f9b-d570-970f1a0e8eb0"
      },
      "outputs": [
        {
          "output_type": "stream",
          "name": "stdout",
          "text": [
            "Collecting kivy\n",
            "  Downloading Kivy-2.0.0-cp37-cp37m-manylinux2010_x86_64.whl (19.2 MB)\n",
            "\u001b[K     |████████████████████████████████| 19.2 MB 1.2 MB/s \n",
            "\u001b[?25hCollecting Kivy-Garden>=0.1.4\n",
            "  Downloading kivy-garden-0.1.4.tar.gz (6.8 kB)\n",
            "Requirement already satisfied: docutils in /usr/local/lib/python3.7/dist-packages (from kivy) (0.17.1)\n",
            "Requirement already satisfied: pygments in /usr/local/lib/python3.7/dist-packages (from kivy) (2.6.1)\n",
            "Requirement already satisfied: requests in /usr/local/lib/python3.7/dist-packages (from Kivy-Garden>=0.1.4->kivy) (2.23.0)\n",
            "Requirement already satisfied: idna<3,>=2.5 in /usr/local/lib/python3.7/dist-packages (from requests->Kivy-Garden>=0.1.4->kivy) (2.10)\n",
            "Requirement already satisfied: certifi>=2017.4.17 in /usr/local/lib/python3.7/dist-packages (from requests->Kivy-Garden>=0.1.4->kivy) (2021.10.8)\n",
            "Requirement already satisfied: urllib3!=1.25.0,!=1.25.1,<1.26,>=1.21.1 in /usr/local/lib/python3.7/dist-packages (from requests->Kivy-Garden>=0.1.4->kivy) (1.24.3)\n",
            "Requirement already satisfied: chardet<4,>=3.0.2 in /usr/local/lib/python3.7/dist-packages (from requests->Kivy-Garden>=0.1.4->kivy) (3.0.4)\n",
            "Building wheels for collected packages: Kivy-Garden\n",
            "  Building wheel for Kivy-Garden (setup.py) ... \u001b[?25l\u001b[?25hdone\n",
            "  Created wheel for Kivy-Garden: filename=Kivy_Garden-0.1.4-py3-none-any.whl size=4531 sha256=ecfa9f14aaf58be536950b8d8fa920659acf2948520a8b6d5243c785944007cf\n",
            "  Stored in directory: /root/.cache/pip/wheels/3f/43/e3/50289d555356f0421d1c388c82d052d5788f22a34d0cd8659d\n",
            "Successfully built Kivy-Garden\n",
            "Installing collected packages: Kivy-Garden, kivy\n",
            "Successfully installed Kivy-Garden-0.1.4 kivy-2.0.0\n"
          ]
        }
      ],
      "source": [
        "!pip install kivy"
      ]
    },
    {
      "cell_type": "code",
      "source": [
        "import kivy\n",
        "from kivy.app import App\n",
        "from kivy.uix.label import Label\n",
        "\n",
        "class RandomNumber(App):\n",
        "  def build(self):\n",
        "    return Label(text=\"Random Number Generator\")\n",
        "\n",
        "randomApp = RandomNumber()\n",
        "randomApp.run()"
      ],
      "metadata": {
        "colab": {
          "base_uri": "https://localhost:8080/"
        },
        "id": "btDOtfLTdcSb",
        "outputId": "cb7b49fb-9663-4779-e9ab-266abdf02ba8"
      },
      "execution_count": null,
      "outputs": [
        {
          "output_type": "stream",
          "name": "stderr",
          "text": [
            "[INFO   ] [Logger      ] Record log in /root/.kivy/logs/kivy_22-01-29_2.txt\n",
            "[INFO   ] [Kivy        ] v2.0.0\n",
            "[INFO   ] [Kivy        ] Installed at \"/usr/local/lib/python3.7/dist-packages/kivy/__init__.py\"\n",
            "[INFO   ] [Python      ] v3.7.12 (default, Sep 10 2021, 00:21:48) \n",
            "[GCC 7.5.0]\n",
            "[INFO   ] [Python      ] Interpreter at \"/usr/bin/python3\"\n",
            "[INFO   ] [Factory     ] 186 symbols loaded\n",
            "[INFO   ] [Image       ] Providers: img_tex, img_dds, img_sdl2, img_pil (img_ffpyplayer ignored)\n",
            "[INFO   ] [Text        ] Provider: sdl2\n",
            "[INFO   ] [Window      ] Provider: sdl2\n",
            "[INFO   ] [Window      ] Provider: x11(['window_sdl2'] ignored)\n"
          ]
        }
      ]
    }
  ]
}