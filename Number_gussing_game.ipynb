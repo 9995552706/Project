{
  "nbformat": 4,
  "nbformat_minor": 0,
  "metadata": {
    "colab": {
      "provenance": [],
      "authorship_tag": "ABX9TyOujcG1/Grm9xbFtY0++IaT"
    },
    "kernelspec": {
      "name": "python3",
      "display_name": "Python 3"
    },
    "language_info": {
      "name": "python"
    }
  },
  "cells": [
    {
      "cell_type": "code",
      "execution_count": null,
      "metadata": {
        "colab": {
          "base_uri": "https://localhost:8080/"
        },
        "id": "GJBT1s_q00xi",
        "outputId": "a7bb735b-0dab-4876-e093-5b4bb2d58234"
      },
      "outputs": [
        {
          "output_type": "stream",
          "name": "stdout",
          "text": [
            "Think of a number between 1 and 100, and I will try to guess it.\n",
            "My guess is 81.\n",
            "Enter 'l' if your number is less than my guess, 'g' if your number is greater, or 'ok' if I guessed it correctly: l\n",
            "My guess is 25.\n",
            "Enter 'l' if your number is less than my guess, 'g' if your number is greater, or 'ok' if I guessed it correctly: g\n",
            "My guess is 59.\n",
            "Enter 'l' if your number is less than my guess, 'g' if your number is greater, or 'ok' if I guessed it correctly: g\n",
            "My guess is 77.\n",
            "Enter 'l' if your number is less than my guess, 'g' if your number is greater, or 'ok' if I guessed it correctly: l\n",
            "My guess is 61.\n",
            "Enter 'l' if your number is less than my guess, 'g' if your number is greater, or 'ok' if I guessed it correctly: g\n",
            "My guess is 63.\n",
            "Enter 'l' if your number is less than my guess, 'g' if your number is greater, or 'ok' if I guessed it correctly: g\n",
            "My guess is 65.\n",
            "Enter 'l' if your number is less than my guess, 'g' if your number is greater, or 'ok' if I guessed it correctly: g\n",
            "My guess is 75.\n",
            "Enter 'l' if your number is less than my guess, 'g' if your number is greater, or 'ok' if I guessed it correctly: l\n",
            "My guess is 73.\n",
            "Enter 'l' if your number is less than my guess, 'g' if your number is greater, or 'ok' if I guessed it correctly: l\n",
            "My guess is 72.\n",
            "Enter 'l' if your number is less than my guess, 'g' if your number is greater, or 'ok' if I guessed it correctly: l\n",
            "My guess is 70.\n",
            "Enter 'l' if your number is less than my guess, 'g' if your number is greater, or 'ok' if I guessed it correctly: l\n",
            "My guess is 68.\n",
            "Enter 'l' if your number is less than my guess, 'g' if your number is greater, or 'ok' if I guessed it correctly: g\n",
            "My guess is 69.\n",
            "Enter 'l' if your number is less than my guess, 'g' if your number is greater, or 'ok' if I guessed it correctly: ok\n",
            "Yay! I guessed your number correctly!\n"
          ]
        }
      ],
      "source": [
        "import random\n",
        "\n",
        "def guess_number():\n",
        "    print(\"Think of a number between 1 and 100, and I will try to guess it.\")\n",
        "\n",
        "    lower_bound = 1\n",
        "    upper_bound = 100\n",
        "    guessed_correctly = False\n",
        "\n",
        "    while not guessed_correctly:\n",
        "        guess = random.randint(lower_bound, upper_bound)\n",
        "        print(f\"My guess is {guess}.\")\n",
        "\n",
        "        user_input = input(\"Enter 'l' if your number is less than my guess, 'g' if your number is greater, or 'ok' if I guessed it correctly: \").strip().lower()\n",
        "\n",
        "        if user_input == 'l':\n",
        "            upper_bound = guess - 1\n",
        "        elif user_input == 'g':\n",
        "            lower_bound = guess + 1\n",
        "        elif user_input == 'ok':\n",
        "            guessed_correctly = True\n",
        "            print(\"Yay! I guessed your number correctly!\")\n",
        "        else:\n",
        "            print(\"Invalid input. Please enter 'l', 'g', or 'ok'.\")\n",
        "\n",
        "# Start the guessing game\n",
        "guess_number()\n"
      ]
    },
    {
      "cell_type": "code",
      "source": [
        "import random\n",
        "print(random.randint(1,6))"
      ],
      "metadata": {
        "colab": {
          "base_uri": "https://localhost:8080/"
        },
        "id": "Lia8bQmi5ntQ",
        "outputId": "a28592f2-d2bc-48cd-da71-df54d98c0de0"
      },
      "execution_count": null,
      "outputs": [
        {
          "output_type": "stream",
          "name": "stdout",
          "text": [
            "5\n"
          ]
        }
      ]
    }
  ]
}