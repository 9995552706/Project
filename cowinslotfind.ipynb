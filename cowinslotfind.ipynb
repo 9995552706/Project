{
  "nbformat": 4,
  "nbformat_minor": 0,
  "metadata": {
    "colab": {
      "provenance": [],
      "authorship_tag": "ABX9TyNM4+jJknxHlfkgUIZnGdqt"
    },
    "kernelspec": {
      "display_name": "Python 3",
      "name": "python3"
    },
    "language_info": {
      "name": "python"
    }
  },
  "cells": [
    {
      "cell_type": "code",
      "metadata": {
        "id": "KDJM0bTtMMEH",
        "colab": {
          "base_uri": "https://localhost:8080/"
        },
        "outputId": "bbf18801-6137-40f8-d15b-4ae3a3cf87ee"
      },
      "source": [
        "!pip install playsound"
      ],
      "execution_count": null,
      "outputs": [
        {
          "output_type": "stream",
          "text": [
            "Collecting playsound\n",
            "  Downloading playsound-1.3.0.tar.gz (7.7 kB)\n",
            "Building wheels for collected packages: playsound\n",
            "  Building wheel for playsound (setup.py) ... \u001b[?25l\u001b[?25hdone\n",
            "  Created wheel for playsound: filename=playsound-1.3.0-py3-none-any.whl size=7035 sha256=c651384d0279153d12cf5827d8225feb70327eacf115aacc811197e367bb2efd\n",
            "  Stored in directory: /root/.cache/pip/wheels/ba/f8/bb/ea57c0146b664dca3a0ada4199b0ecb5f9dfcb7b7e22b65ba2\n",
            "Successfully built playsound\n",
            "Installing collected packages: playsound\n",
            "Successfully installed playsound-1.3.0\n"
          ],
          "name": "stdout"
        }
      ]
    },
    {
      "cell_type": "code",
      "metadata": {
        "id": "Cc_VUjvwMAsP"
      },
      "source": [
        "import requests\n",
        "import time\n",
        "from playsound import playsound\n",
        "\n",
        "dist = 296\n",
        "date = '27-07-2021'\n",
        "\n",
        "URL = 'https://cdn-api.co-vin.in/api/v2/appointment/sessions/public/findByDistrict?district_id={}&date={}'.format(dist, date)\n",
        "\n",
        "header = {'User-Agent': 'Mozilla/5.0 (Windows NT 6.1; WOW64) AppleWebKit/537.36 (KHTML, like Gecko) Chrome/56.0.2924.76 Safari/537.36'}\n",
        "\n",
        "def findAvailability():\n",
        "  counter = 0\n",
        "  result = requests.get(URL, headers=header)\n",
        "  response_json = result.json()\n",
        "  data = response_json[\"sessions\"]\n",
        "  for center in data:\n",
        "    if ((center[\"center_id\"]==176959) or (center[\"center_id\"]==158930)):\n",
        "      if (center[\"available_capacity_dose2\"]>0 and center[\"vaccine\"]==\"COVISHIELD\"):\n",
        "        counter += 1\n",
        "        print(center[\"name\"])\n",
        "        print(each[\"vaccine\"])\n",
        "        print(each[\"available_capacity_dose2\"])\n",
        "  if (counter==0):\n",
        "    print(\"No Available Slots in {}\".format(center[\"district_name\"]))\n",
        "\n",
        "while True:\n",
        "  findAvailability()\n",
        "  time.sleep(5)\n"
      ],
      "execution_count": null,
      "outputs": []
    }
  ]
}