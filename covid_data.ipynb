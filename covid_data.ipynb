{
  "nbformat": 4,
  "nbformat_minor": 0,
  "metadata": {
    "colab": {
      "provenance": [],
      "authorship_tag": "ABX9TyPxSSPe8MJhVywnRYxhfdaV"
    },
    "kernelspec": {
      "name": "python3",
      "display_name": "Python 3"
    },
    "language_info": {
      "name": "python"
    }
  },
  "cells": [
    {
      "cell_type": "code",
      "execution_count": null,
      "metadata": {
        "colab": {
          "base_uri": "https://localhost:8080/"
        },
        "id": "JK4Xjeyltlru",
        "outputId": "5bd80adf-538e-40ad-9319-a2e50f4b493f"
      },
      "outputs": [
        {
          "output_type": "stream",
          "name": "stdout",
          "text": [
            "d\n",
            "s\n"
          ]
        }
      ],
      "source": [
        "import requests\n",
        "import time\n",
        "from datetime import date\n",
        "\n",
        "URL = 'https://data.covid19india.org/state_district_wise.json'\n",
        "header = {'User-Agent': 'Mozilla/5.0 (Windows NT 6.1; WOW64) AppleWebKit/537.36 (KHTML, like Gecko) Chrome/56.0.2924.76 Safari/537.36'}\n",
        "\n",
        "result = requests.get(URL, headers=header)\n",
        "response_json = result.json()\n",
        "data = response_json[\"Chandigarh\"]\n",
        "\n",
        "for district in data:\n",
        "  print(district[0])"
      ]
    },
    {
      "cell_type": "code",
      "source": [
        "import requests\n",
        "r = requests.get('https://data.covid19india.org/state_district_wise.json')\n",
        "print(r.json()['Kerala']['districtData']['Kannur']['active'])"
      ],
      "metadata": {
        "colab": {
          "base_uri": "https://localhost:8080/"
        },
        "id": "p3STOevfv7fO",
        "outputId": "160a6f40-e766-446b-d0c6-1a698c2d19fa"
      },
      "execution_count": null,
      "outputs": [
        {
          "output_type": "stream",
          "name": "stdout",
          "text": [
            "8847\n"
          ]
        }
      ]
    },
    {
      "cell_type": "code",
      "source": [
        "import urllib, json\n",
        "url = \"https://data.covid19india.org/state_district_wise.json\"\n",
        "response = urllib.urlopen(url)\n",
        "data = json.loads(response.read())\n",
        "print(data)"
      ],
      "metadata": {
        "id": "9JOU4FFNvwEX"
      },
      "execution_count": null,
      "outputs": []
    }
  ]
}